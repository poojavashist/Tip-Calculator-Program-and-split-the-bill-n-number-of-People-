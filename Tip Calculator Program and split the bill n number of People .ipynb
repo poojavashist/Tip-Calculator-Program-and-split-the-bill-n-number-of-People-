{
 "cells": [
  {
   "cell_type": "raw",
   "metadata": {},
   "source": [
    "If the bill was $150.00, split between 5 people, with 12% tip. \n",
    "#Each person should pay (150.00 / 5) * 1.12 = 33.6\n",
    "#Format the result to 2 decimal places = 33.60 "
   ]
  },
  {
   "cell_type": "code",
   "execution_count": 29,
   "metadata": {},
   "outputs": [
    {
     "name": "stdout",
     "output_type": "stream",
     "text": [
      "welcome to the top calculater!\n",
      "what was the total bill ? $  25\n",
      "how much tip you like to give? 10,15,12?  :10\n",
      "how many people to split the bill  : 3\n",
      "how much tip_as_percent : \n",
      "0.1\n",
      "total_tip_amount : \n",
      "2.5\n",
      "total_bill :\n",
      "27.5\n",
      "bill_per_person :\n",
      "9.166666666666666\n",
      "Final amount per person will pay:\n",
      "9.17\n"
     ]
    }
   ],
   "source": [
    "print(\"welcome to the top calculater!\")\n",
    "\n",
    "bill = float(input(\"what was the total bill ? $  \"))\n",
    "tip = int(input(\"how much tip you like to give? 10,15,12?  :\"))\n",
    "people =int(input(\"how many people to split the bill  : \"))\n",
    "\n",
    "tip_as_percent = (tip/100)\n",
    "print(\"how much tip_as_percent : \")\n",
    "print(tip_as_percent)\n",
    "\n",
    "total_tip_amount = bill * tip_as_percent\n",
    "print(\"total_tip_amount : \")\n",
    "print(total_tip_amount)\n",
    "\n",
    "total_bill= bill + total_tip_amount\n",
    "print(\"total_bill :\" )\n",
    "print(total_bill)\n",
    "\n",
    "bill_per_person = total_bill/people\n",
    "print(\"bill_per_person :\")\n",
    "print(bill_per_person)\n",
    "\n",
    "final_amount= round(bill_per_person ,2)\n",
    "print(\"Final amount per person will pay:\") \n",
    "print(final_amount)"
   ]
  },
  {
   "cell_type": "code",
   "execution_count": null,
   "metadata": {},
   "outputs": [],
   "source": [
    "\n"
   ]
  }
 ],
 "metadata": {
  "kernelspec": {
   "display_name": "Python 3",
   "language": "python",
   "name": "python3"
  },
  "language_info": {
   "codemirror_mode": {
    "name": "ipython",
    "version": 3
   },
   "file_extension": ".py",
   "mimetype": "text/x-python",
   "name": "python",
   "nbconvert_exporter": "python",
   "pygments_lexer": "ipython3",
   "version": "3.8.3"
  }
 },
 "nbformat": 4,
 "nbformat_minor": 4
}
